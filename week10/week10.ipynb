{
 "cells": [
  {
   "cell_type": "markdown",
   "id": "3b0d1223-2e10-4180-a3da-28703269b3c0",
   "metadata": {},
   "source": [
    "# Week 10 Discussion & Q&A:\n",
    "### Parallelization for Hardware Accelerators (e.g., GPUs) \n"
   ]
  },
  {
   "cell_type": "code",
   "execution_count": 1,
   "id": "75d0cbff-4b69-4ab5-bf08-6ac21ae50a2b",
   "metadata": {},
   "outputs": [
    {
     "name": "stderr",
     "output_type": "stream",
     "text": [
      "\u001b[32m\u001b[1m  Activating\u001b[22m\u001b[39m project at `/storage/work/ebf11/Teach/Astro528/Fall2023/Notes-Fall2023/week10`\n"
     ]
    }
   ],
   "source": [
    "import Pkg\n",
    "#Pkg.activate(\"../../lab8-start/\")\n",
    "Pkg.activate(\".\")"
   ]
  },
  {
   "cell_type": "code",
   "execution_count": 2,
   "id": "45307f6a-ec4c-464c-9f95-ae0204318354",
   "metadata": {},
   "outputs": [],
   "source": [
    "using CUDA, Test"
   ]
  },
  {
   "cell_type": "code",
   "execution_count": 3,
   "id": "0a8bd608-763b-44c3-8511-9ac1f5446b0f",
   "metadata": {},
   "outputs": [
    {
     "name": "stdout",
     "output_type": "stream",
     "text": [
      "CUDA runtime 12.2, artifact installation\n",
      "CUDA driver 12.2\n",
      "NVIDIA driver 535.104.12\n",
      "\n",
      "CUDA libraries: \n",
      "- CUBLAS: 12.2.5\n",
      "- CURAND: 10.3.3\n",
      "- CUFFT: 11.0.8\n",
      "- CUSOLVER: 11.5.2\n",
      "- CUSPARSE: 12.1.2\n",
      "- CUPTI: 20.0.0\n",
      "- NVML: 12.0.0+535.104.12\n",
      "\n",
      "Julia packages: \n",
      "- CUDA: 5.0.0\n",
      "- CUDA_Driver_jll: 0.6.0+4\n",
      "- CUDA_Runtime_jll: 0.9.2+3\n",
      "\n",
      "Toolchain:\n",
      "- Julia: 1.9.2\n",
      "- LLVM: 14.0.6\n",
      "- PTX ISA support: 3.2, 4.0, 4.1, 4.2, 4.3, 5.0, 6.0, 6.1, 6.3, 6.4, 6.5, 7.0, 7.1, 7.2, 7.3, 7.4, 7.5\n",
      "- Device capability support: sm_37, sm_50, sm_52, sm_53, sm_60, sm_61, sm_62, sm_70, sm_72, sm_75, sm_80, sm_86\n",
      "\n",
      "1 device:\n",
      "  0: Tesla P100-PCIE-12GB (sm_60, 11.502 GiB / 12.000 GiB available)\n"
     ]
    }
   ],
   "source": [
    "CUDA.versioninfo()"
   ]
  },
  {
   "cell_type": "markdown",
   "id": "1447f49c-6cb4-48f0-89ea-455cc91e5aeb",
   "metadata": {},
   "source": [
    "# P100 GPU layout\n",
    "![P100 Block diagram](https://cdn.arstechnica.net/wp-content/uploads/sites/3/2016/04/gp100_block_diagram-1.png)\""
   ]
  },
  {
   "cell_type": "markdown",
   "id": "294b6f9a-f1ad-4c2f-bcce-d3aac48831d6",
   "metadata": {},
   "source": [
    "### CPU chip layout\n",
    "\n",
    "![Intel CPU die shot](https://cdn.arstechnica.net/wp-content/uploads/2011/11/core_i7_lga_2011_die-4ec188e-intro.jpg)"
   ]
  },
  {
   "cell_type": "code",
   "execution_count": 4,
   "id": "17601e96-c5f1-43bd-8d9a-a70c0f3612e8",
   "metadata": {},
   "outputs": [
    {
     "data": {
      "text/plain": [
       "1-element Vector{VersionNumber}:\n",
       " v\"6.0.0\""
      ]
     },
     "execution_count": 4,
     "metadata": {},
     "output_type": "execute_result"
    }
   ],
   "source": [
    "[CUDA.capability(dev) for dev in CUDA.devices()]"
   ]
  },
  {
   "cell_type": "markdown",
   "id": "bd1a94d5-8b92-460a-80e3-2ed9982055ba",
   "metadata": {},
   "source": [
    "## Calling GPU on arrays"
   ]
  },
  {
   "cell_type": "code",
   "execution_count": 5,
   "id": "ab0a3c23-f11c-46e9-9dbb-84944d24e292",
   "metadata": {},
   "outputs": [
    {
     "data": {
      "text/plain": [
       "1000000"
      ]
     },
     "execution_count": 5,
     "metadata": {},
     "output_type": "execute_result"
    }
   ],
   "source": [
    "N = 10^6"
   ]
  },
  {
   "cell_type": "code",
   "execution_count": 6,
   "id": "47a47cfc-d433-42dc-a7ee-673ad75ad0d0",
   "metadata": {},
   "outputs": [],
   "source": [
    "begin\n",
    "\tx_d = CUDA.fill(1.0f0, N)  # a vector stored on the GPU filled with 1.0 (Float32)\n",
    "\ty_d = CUDA.fill(2.0f0, N)  # a vector stored on the GPU filled with 2.0\n",
    "end;  # Suppress output to notebook, unless enable scalar indexing"
   ]
  },
  {
   "cell_type": "code",
   "execution_count": 7,
   "id": "2d6c5274-689f-4a58-8302-5f7a0726f023",
   "metadata": {},
   "outputs": [
    {
     "data": {
      "text/plain": [
       "\u001b[32m\u001b[1mTest Passed\u001b[22m\u001b[39m"
      ]
     },
     "execution_count": 7,
     "metadata": {},
     "output_type": "execute_result"
    }
   ],
   "source": [
    "begin\n",
    "\ty_d .+= x_d\n",
    "\t@test all(Array(y_d) .== 3.0f0)\n",
    "end"
   ]
  },
  {
   "cell_type": "code",
   "execution_count": 8,
   "id": "7f17acd0-37a9-4911-8196-9802937f115b",
   "metadata": {},
   "outputs": [
    {
     "data": {
      "text/plain": [
       "add_broadcast! (generic function with 1 method)"
      ]
     },
     "execution_count": 8,
     "metadata": {},
     "output_type": "execute_result"
    }
   ],
   "source": [
    "function add_broadcast!(y, x)\n",
    "    CUDA.@sync y .+= x\n",
    "    return\n",
    "end"
   ]
  },
  {
   "cell_type": "code",
   "execution_count": 9,
   "id": "9e852f47-f5ce-4992-8fda-f11c0e3523b5",
   "metadata": {},
   "outputs": [
    {
     "name": "stdout",
     "output_type": "stream",
     "text": [
      "  0.061591 seconds (90.27 k allocations: 6.043 MiB)\n",
      "  0.000571 seconds (2 allocations: 64 bytes)\n",
      "  0.000577 seconds (2 allocations: 64 bytes)\n",
      "  0.000645 seconds (2 allocations: 64 bytes)\n"
     ]
    }
   ],
   "source": [
    "\tx_h = fill(1.0f0,N)\n",
    "\ty_h = fill(2.0f0,N)\n",
    "\t@time y_h .+= x_h\n",
    "\t@time y_h .+= x_h\n",
    "\t@time CUDA.@sync y_h .+= x_h\n",
    "\t@time CUDA.@sync y_h .+= x_h;"
   ]
  },
  {
   "cell_type": "code",
   "execution_count": 10,
   "id": "3de5503d-3e1a-4df0-8e69-5e2b9c13ff8a",
   "metadata": {},
   "outputs": [
    {
     "name": "stdout",
     "output_type": "stream",
     "text": [
      "  0.028065 seconds (12.65 k allocations: 892.506 KiB)\n",
      "  0.000070 seconds (31 allocations: 1.859 KiB)\n",
      "  0.000070 seconds (31 allocations: 1.859 KiB)\n",
      "  0.000074 seconds (31 allocations: 1.859 KiB)\n"
     ]
    }
   ],
   "source": [
    "x_d, add_broadcast!\n",
    "z_d = CUDA.fill(2.0f0, N)  \n",
    "@time  add_broadcast!(z_d, x_d)\n",
    "@time add_broadcast!(z_d, x_d)\n",
    "@time CUDA.@sync add_broadcast!(z_d, x_d)\n",
    "@time CUDA.@sync add_broadcast!(z_d, x_d)"
   ]
  },
  {
   "cell_type": "markdown",
   "id": "aef68725-2765-464d-84fa-b38100fc6512",
   "metadata": {},
   "source": [
    "## How to use GPUs very ineefficiently"
   ]
  },
  {
   "cell_type": "code",
   "execution_count": 11,
   "id": "819510f1-e8b4-42d3-8af1-94a2753a55b9",
   "metadata": {},
   "outputs": [
    {
     "data": {
      "text/plain": [
       "gpu_add1! (generic function with 1 method)"
      ]
     },
     "execution_count": 11,
     "metadata": {},
     "output_type": "execute_result"
    }
   ],
   "source": [
    "function gpu_add1!(y, x)\n",
    "    for i = 1:length(y)\n",
    "        @inbounds y[i] += x[i]\n",
    "    end\n",
    "    return nothing\n",
    "end"
   ]
  },
  {
   "cell_type": "code",
   "execution_count": 12,
   "id": "a1c969a3-486c-473f-b4cd-7ffa395ae181",
   "metadata": {},
   "outputs": [
    {
     "data": {
      "text/plain": [
       "bench_gpu1! (generic function with 1 method)"
      ]
     },
     "execution_count": 12,
     "metadata": {},
     "output_type": "execute_result"
    }
   ],
   "source": [
    "function bench_gpu1!(y, x)\n",
    "    CUDA.@sync begin\n",
    "        @cuda gpu_add1!(y, x)\n",
    "    end\n",
    "end"
   ]
  },
  {
   "cell_type": "code",
   "execution_count": 13,
   "id": "bc48489c-40fe-4247-8a12-2a7dc11313ad",
   "metadata": {},
   "outputs": [
    {
     "data": {
      "text/plain": [
       "0.178713866"
      ]
     },
     "execution_count": 13,
     "metadata": {},
     "output_type": "execute_result"
    }
   ],
   "source": [
    "begin\n",
    "\tbench_gpu1!(y_d, x_d)\n",
    "\t@elapsed bench_gpu1!(y_d, x_d)\n",
    "end"
   ]
  },
  {
   "cell_type": "markdown",
   "id": "10af2fcf-1aae-4e25-b44d-33dec57f6331",
   "metadata": {},
   "source": [
    "## Parallelize over multiple threads\n",
    "\n",
    "**Q:** Can you run 'for' loops in parallel on a GPU?\n"
   ]
  },
  {
   "cell_type": "code",
   "execution_count": 14,
   "id": "65e4b383-513e-4d43-bceb-db1783eca588",
   "metadata": {},
   "outputs": [
    {
     "data": {
      "text/plain": [
       "gpu_add2! (generic function with 1 method)"
      ]
     },
     "execution_count": 14,
     "metadata": {},
     "output_type": "execute_result"
    }
   ],
   "source": [
    "function gpu_add2!(y, x)\n",
    "    index = threadIdx().x    # this example only requires linear indexing, so just use `x`\n",
    "    stride = blockDim().x\n",
    "    for i = index:stride:length(y)\n",
    "        @inbounds y[i] += x[i]\n",
    "    end\n",
    "    return nothing\n",
    "end"
   ]
  },
  {
   "cell_type": "code",
   "execution_count": 15,
   "id": "2861357b-7d04-4389-b39e-dfd15f7ebb10",
   "metadata": {},
   "outputs": [
    {
     "data": {
      "text/plain": [
       "\u001b[32m\u001b[1mTest Passed\u001b[22m\u001b[39m"
      ]
     },
     "execution_count": 15,
     "metadata": {},
     "output_type": "execute_result"
    }
   ],
   "source": [
    "let\n",
    "\tfill!(y_d, 2)\n",
    "\t@cuda threads=256 gpu_add2!(y_d, x_d)\n",
    "\t@test all(Array(y_d) .== 3.0f0)\n",
    "end"
   ]
  },
  {
   "cell_type": "code",
   "execution_count": 16,
   "id": "def5f341-4cd0-4824-841e-fc2e42d22615",
   "metadata": {},
   "outputs": [
    {
     "data": {
      "text/plain": [
       "bench_gpu2! (generic function with 1 method)"
      ]
     },
     "execution_count": 16,
     "metadata": {},
     "output_type": "execute_result"
    }
   ],
   "source": [
    "function bench_gpu2!(y, x)\n",
    "    CUDA.@sync begin\n",
    "        @cuda threads=256 gpu_add2!(y, x)\n",
    "    end\n",
    "end\n"
   ]
  },
  {
   "cell_type": "code",
   "execution_count": 17,
   "id": "3adb96cb-2582-4aad-a22c-41c13cce0714",
   "metadata": {},
   "outputs": [
    {
     "data": {
      "text/plain": [
       "0.002026105"
      ]
     },
     "execution_count": 17,
     "metadata": {},
     "output_type": "execute_result"
    }
   ],
   "source": [
    "begin\n",
    "\tbench_gpu2!(y_d, x_d)\n",
    "\t@elapsed bench_gpu2!(y_d, x_d)\n",
    "end"
   ]
  },
  {
   "cell_type": "markdown",
   "id": "80313f53-4ee7-40e9-99fb-fed9f5eb81f0",
   "metadata": {},
   "source": [
    "## Paralelizing with multiple blocks\n",
    "![CUDA array indexing](https://cuda.juliagpu.org/dev/tutorials/intro1.png)"
   ]
  },
  {
   "cell_type": "code",
   "execution_count": 18,
   "id": "6f2903d4-def8-4320-a6a4-ff456588ab2b",
   "metadata": {},
   "outputs": [
    {
     "data": {
      "text/plain": [
       "gpu_add3! (generic function with 1 method)"
      ]
     },
     "execution_count": 18,
     "metadata": {},
     "output_type": "execute_result"
    }
   ],
   "source": [
    "function gpu_add3!(y, x)\n",
    "    index = (blockIdx().x - 1) * blockDim().x + threadIdx().x\n",
    "    if index <= length(y)\n",
    "\t\t@inbounds y[index] += x[index]\n",
    "\tend\n",
    "\treturn\n",
    "end"
   ]
  },
  {
   "cell_type": "code",
   "execution_count": 19,
   "id": "409ad064-46ab-40ca-b199-e9814d22c290",
   "metadata": {},
   "outputs": [
    {
     "data": {
      "text/plain": [
       "\u001b[32m\u001b[1mTest Passed\u001b[22m\u001b[39m"
      ]
     },
     "execution_count": 19,
     "metadata": {},
     "output_type": "execute_result"
    }
   ],
   "source": [
    "let\n",
    "\tnumblocks = ceil(Int, N/256)\n",
    "\t\n",
    "\tfill!(y_d, 2)\n",
    "\t@cuda threads=256 blocks=numblocks gpu_add3!(y_d, x_d)\n",
    "\t@test all(Array(y_d) .== 3.0f0)\n",
    "end"
   ]
  },
  {
   "cell_type": "code",
   "execution_count": 20,
   "id": "8da8d0b4-4409-465a-ad21-b2985e566576",
   "metadata": {},
   "outputs": [
    {
     "data": {
      "text/plain": [
       "bench_gpu3! (generic function with 1 method)"
      ]
     },
     "execution_count": 20,
     "metadata": {},
     "output_type": "execute_result"
    }
   ],
   "source": [
    "function bench_gpu3!(y, x)\n",
    "    numblocks = ceil(Int, length(y)/256)\n",
    "    CUDA.@sync begin\n",
    "        @cuda threads=256 blocks=numblocks gpu_add3!(y, x)\n",
    "    end\n",
    "end"
   ]
  },
  {
   "cell_type": "code",
   "execution_count": 21,
   "id": "9dcbd4ef-0d7a-40ad-8723-3941eb23bfb4",
   "metadata": {},
   "outputs": [
    {
     "data": {
      "text/plain": [
       "5.2046e-5"
      ]
     },
     "execution_count": 21,
     "metadata": {},
     "output_type": "execute_result"
    }
   ],
   "source": [
    "begin\n",
    "\tbench_gpu3!(y_d, x_d)\n",
    "\t@elapsed bench_gpu3!(y_d, x_d)\n",
    "end"
   ]
  },
  {
   "cell_type": "markdown",
   "id": "07f7747d-e2c8-4bd5-a51e-a3913eb0076e",
   "metadata": {},
   "source": [
    "### Choosing Number of threads/block & Number of blocks"
   ]
  },
  {
   "cell_type": "code",
   "execution_count": 22,
   "id": "633287fe-20c9-4cef-a4cd-d8fc24d60bca",
   "metadata": {},
   "outputs": [
    {
     "data": {
      "text/plain": [
       "56"
      ]
     },
     "execution_count": 22,
     "metadata": {},
     "output_type": "execute_result"
    }
   ],
   "source": [
    "CUDA.attribute(device(), CUDA.DEVICE_ATTRIBUTE_MULTIPROCESSOR_COUNT)"
   ]
  },
  {
   "cell_type": "code",
   "execution_count": 23,
   "id": "781100c7-bcb5-48ca-b09f-711301296f1d",
   "metadata": {},
   "outputs": [
    {
     "data": {
      "text/plain": [
       "1024"
      ]
     },
     "execution_count": 23,
     "metadata": {},
     "output_type": "execute_result"
    }
   ],
   "source": [
    "CUDA.attribute(device(), CUDA.DEVICE_ATTRIBUTE_MAX_THREADS_PER_BLOCK)"
   ]
  },
  {
   "cell_type": "code",
   "execution_count": 24,
   "id": "bf335312-c0d4-456e-a491-e46c006bf653",
   "metadata": {},
   "outputs": [
    {
     "data": {
      "text/plain": [
       "48.0"
      ]
     },
     "execution_count": 24,
     "metadata": {},
     "output_type": "execute_result"
    }
   ],
   "source": [
    "CUDA.attribute(device(), CUDA.DEVICE_ATTRIBUTE_MAX_SHARED_MEMORY_PER_BLOCK)/1024 #KB"
   ]
  },
  {
   "cell_type": "code",
   "execution_count": 25,
   "id": "21c2f63d-50a7-4c83-9f87-3cef37897f1e",
   "metadata": {},
   "outputs": [
    {
     "data": {
      "text/plain": [
       "32"
      ]
     },
     "execution_count": 25,
     "metadata": {},
     "output_type": "execute_result"
    }
   ],
   "source": [
    "CUDA.attribute(device(), CUDA.DEVICE_ATTRIBUTE_WARP_SIZE)"
   ]
  },
  {
   "cell_type": "code",
   "execution_count": 26,
   "id": "874a679a-2606-4224-b03d-2c0c801faa76",
   "metadata": {},
   "outputs": [
    {
     "data": {
      "text/plain": [
       "(1024, 1024, 64)"
      ]
     },
     "execution_count": 26,
     "metadata": {},
     "output_type": "execute_result"
    }
   ],
   "source": [
    "CUDA.attribute(device(), CUDA.DEVICE_ATTRIBUTE_MAX_BLOCK_DIM_X), \n",
    "CUDA.attribute(device(), CUDA.DEVICE_ATTRIBUTE_MAX_BLOCK_DIM_Y),\n",
    "CUDA.attribute(device(), CUDA.DEVICE_ATTRIBUTE_MAX_BLOCK_DIM_Z)"
   ]
  },
  {
   "cell_type": "code",
   "execution_count": 27,
   "id": "df8df1af-1077-48c5-b2e6-a20ced481c80",
   "metadata": {},
   "outputs": [
    {
     "data": {
      "text/plain": [
       "(2147483647, 65535, 65535)"
      ]
     },
     "execution_count": 27,
     "metadata": {},
     "output_type": "execute_result"
    }
   ],
   "source": [
    "CUDA.attribute(device(), CUDA.DEVICE_ATTRIBUTE_MAX_GRID_DIM_X), \n",
    "CUDA.attribute(device(), CUDA.DEVICE_ATTRIBUTE_MAX_GRID_DIM_Y), CUDA.attribute(device(), CUDA.DEVICE_ATTRIBUTE_MAX_GRID_DIM_Z)"
   ]
  },
  {
   "cell_type": "code",
   "execution_count": 28,
   "id": "a1dbfc35-e6b0-406f-af3e-409f151d964e",
   "metadata": {},
   "outputs": [
    {
     "data": {
      "text/plain": [
       "3.0"
      ]
     },
     "execution_count": 28,
     "metadata": {},
     "output_type": "execute_result"
    }
   ],
   "source": [
    "CUDA.attribute(device(), CUDA.DEVICE_ATTRIBUTE_L2_CACHE_SIZE)/1024^2 # MB"
   ]
  },
  {
   "cell_type": "code",
   "execution_count": 29,
   "id": "f0d676fe-8fda-4f7a-ba03-c8f913e636ec",
   "metadata": {},
   "outputs": [
    {
     "data": {
      "text/plain": [
       "(1024, 977)"
      ]
     },
     "execution_count": 29,
     "metadata": {},
     "output_type": "execute_result"
    }
   ],
   "source": [
    "begin\n",
    "\tkernel = @cuda launch=false gpu_add3!(y_d, x_d)\n",
    "\tconfig = launch_configuration(kernel.fun)\n",
    "\tthreads3 = min(N, config.threads)\n",
    "\tblocks3 = cld(N, threads3)\n",
    "\tthreads3, blocks3\n",
    "end"
   ]
  },
  {
   "cell_type": "code",
   "execution_count": 30,
   "id": "9fa8debf-07e2-4e0c-967e-e620afe5f794",
   "metadata": {},
   "outputs": [
    {
     "data": {
      "text/plain": [
       "\u001b[32m\u001b[1mTest Passed\u001b[22m\u001b[39m"
      ]
     },
     "execution_count": 30,
     "metadata": {},
     "output_type": "execute_result"
    }
   ],
   "source": [
    "begin\n",
    "\tfill!(y_d, 2)\n",
    "\tkernel(y_d, x_d; threads=threads3, blocks=blocks3)\n",
    "\t@test all(Array(y_d) .== 3.0f0)\n",
    "end"
   ]
  },
  {
   "cell_type": "code",
   "execution_count": 31,
   "id": "925708d1-e263-440c-aecc-65d9493ac351",
   "metadata": {},
   "outputs": [
    {
     "data": {
      "text/plain": [
       "bench_gpu4! (generic function with 1 method)"
      ]
     },
     "execution_count": 31,
     "metadata": {},
     "output_type": "execute_result"
    }
   ],
   "source": [
    "function bench_gpu4!(y, x)\n",
    "    kernel = @cuda launch=false gpu_add3!(y, x)\n",
    "    config = launch_configuration(kernel.fun)\n",
    "    threads4 = min(length(y), config.threads)\n",
    "    blocks4 = cld(length(y), threads4)\n",
    "\n",
    "    CUDA.@sync begin\n",
    "        kernel(y, x; threads=threads4, blocks=blocks4)\n",
    "    end\n",
    "end"
   ]
  },
  {
   "cell_type": "code",
   "execution_count": 32,
   "id": "bee14798-f65e-4c53-8838-629e24b904a3",
   "metadata": {},
   "outputs": [
    {
     "data": {
      "text/plain": [
       "5.0521e-5"
      ]
     },
     "execution_count": 32,
     "metadata": {},
     "output_type": "execute_result"
    }
   ],
   "source": [
    "begin\n",
    "\tbench_gpu4!(y_d, x_d)\n",
    "\t@elapsed bench_gpu4!(y_d, x_d)\n",
    "end"
   ]
  },
  {
   "cell_type": "markdown",
   "id": "e7025c34-22ad-4ccf-b39a-bbfef73a334c",
   "metadata": {},
   "source": [
    "### Generating Pseudo-random numbers on the GPU"
   ]
  },
  {
   "cell_type": "code",
   "execution_count": 33,
   "id": "5452a96a-f93d-4d1f-bf2b-f6c343c8328e",
   "metadata": {},
   "outputs": [
    {
     "data": {
      "text/plain": [
       "0.110167669"
      ]
     },
     "execution_count": 33,
     "metadata": {},
     "output_type": "execute_result"
    }
   ],
   "source": [
    "@elapsed rand_nums_h = rand(N)"
   ]
  },
  {
   "cell_type": "code",
   "execution_count": 34,
   "id": "86053d5c-fade-478f-8990-5fe1cce0a653",
   "metadata": {},
   "outputs": [
    {
     "data": {
      "text/plain": [
       "0.567231846"
      ]
     },
     "execution_count": 34,
     "metadata": {},
     "output_type": "execute_result"
    }
   ],
   "source": [
    "@elapsed (CUDA.@sync rand_nums_d = CUDA.rand(N))"
   ]
  },
  {
   "cell_type": "code",
   "execution_count": 35,
   "id": "49072fb3-e05b-43a0-b689-37af98c4a53c",
   "metadata": {},
   "outputs": [
    {
     "data": {
      "text/plain": [
       "1000000-element Vector{Float64}:\n",
       " 0.07158018159398527\n",
       " 0.12150290415310305\n",
       " 0.2806580697314387\n",
       " 0.7576182492403284\n",
       " 0.4481729125409478\n",
       " 0.9180841377375324\n",
       " 0.1958425617052878\n",
       " 0.7439165099824575\n",
       " 0.5836985731067483\n",
       " 0.01361140458826493\n",
       " 0.17111914127773653\n",
       " 0.36088205044028\n",
       " 0.05089161598456837\n",
       " ⋮\n",
       " 0.24148329497020182\n",
       " 0.9360944261791848\n",
       " 0.5740321860086848\n",
       " 0.40953835123957405\n",
       " 0.3389203108371428\n",
       " 0.7139580075109151\n",
       " 0.5551717300540272\n",
       " 0.7324362035427616\n",
       " 0.9129771162578413\n",
       " 0.9383278952428211\n",
       " 0.7922551508170057\n",
       " 0.5280522187457685"
      ]
     },
     "execution_count": 35,
     "metadata": {},
     "output_type": "execute_result"
    }
   ],
   "source": [
    "rand_nums_h"
   ]
  },
  {
   "cell_type": "code",
   "execution_count": 36,
   "id": "f0413d8d-6752-42ca-811b-7e8b92d98e94",
   "metadata": {},
   "outputs": [
    {
     "data": {
      "text/plain": [
       "1000000-element Vector{Float32}:\n",
       " 0.511338\n",
       " 0.9368336\n",
       " 0.6444489\n",
       " 0.8800617\n",
       " 0.7683473\n",
       " 0.01727279\n",
       " 0.8722887\n",
       " 0.79843414\n",
       " 0.06122761\n",
       " 0.78966343\n",
       " 0.4086514\n",
       " 0.23382325\n",
       " 0.15878306\n",
       " ⋮\n",
       " 0.43647316\n",
       " 0.8613937\n",
       " 0.36172053\n",
       " 0.48447618\n",
       " 0.30490714\n",
       " 0.30156836\n",
       " 0.2639223\n",
       " 0.3211724\n",
       " 0.36164367\n",
       " 0.87946635\n",
       " 0.90603137\n",
       " 0.34840906"
      ]
     },
     "execution_count": 36,
     "metadata": {},
     "output_type": "execute_result"
    }
   ],
   "source": [
    "collect(rand_nums_d)"
   ]
  },
  {
   "cell_type": "code",
   "execution_count": 37,
   "id": "a8445efd-484e-46ef-843e-2d59ea04bd16",
   "metadata": {},
   "outputs": [
    {
     "data": {
      "text/plain": [
       "0.511338f0"
      ]
     },
     "execution_count": 37,
     "metadata": {},
     "output_type": "execute_result"
    }
   ],
   "source": [
    "CUDA.@allowscalar rand_nums_d[1]"
   ]
  },
  {
   "cell_type": "markdown",
   "id": "aeb909b2-70b8-4ca3-9170-a1313604f351",
   "metadata": {},
   "source": [
    "## Using GPU for a more substantial function"
   ]
  },
  {
   "cell_type": "code",
   "execution_count": 51,
   "id": "ad52a239-bf7d-4771-ad4d-f68dc406b9de",
   "metadata": {},
   "outputs": [],
   "source": [
    "\"\"\"\n",
    "   ecc_anom_init_guess_danby(mean_anomaly, eccentricity)\n",
    "Returns initial guess for the eccentric anomaly for use by itterative solvers of Kepler's equation for bound orbits.  \n",
    "Based on \"The Solution of Kepler's Equations - Part Three\"\n",
    "Danby, J. M. A. (1987) Journal: Celestial Mechanics, Volume 40, Issue 3-4, pp. 303-312 (1987CeMec..40..303D)\n",
    "\"\"\"\n",
    "function ecc_anom_init_guess_danby(M::Real, ecc::Real)\n",
    "\tmy_pi = convert(typeof(M),pi)\n",
    "    @assert -2*my_pi<= M <= 2*my_pi\n",
    "\t@assert 0 <= ecc <= 1.0\n",
    "    k = convert(typeof(M), 0.85)\n",
    "    if  M < zero(M)\n",
    "\t\tM += 2*my_pi\n",
    "\tend\n",
    "    E = (M<my_pi) ? M + k*ecc : M - k*ecc\n",
    "end;"
   ]
  },
  {
   "cell_type": "code",
   "execution_count": 52,
   "id": "5ed7b9d6-97ff-4650-8a77-57de6ec2f11a",
   "metadata": {},
   "outputs": [],
   "source": [
    "\"\"\"\n",
    "   update_ecc_anom_laguerre(eccentric_anomaly_guess, mean_anomaly, eccentricity)\n",
    "Update the current guess for solution to Kepler's equation\n",
    "  \n",
    "Based on \"An Improved Algorithm due to Laguerre for the Solution of Kepler's Equation\"\n",
    "   Conway, B. A.  (1986) Celestial Mechanics, Volume 39, Issue 2, pp.199-211 (1986CeMec..39..199C)\n",
    "\"\"\"\n",
    "function update_ecc_anom_laguerre(E::Real, M::Real, ecc::Real)\n",
    "  es = ecc*sin(E)\n",
    "  ec = ecc*cos(E)\n",
    "  #(es, ec) = ecc .* sincos(E)  # Does combining them provide any speed benefit?\n",
    "  F = (E-es)-M\n",
    "  Fp = one(M)-ec\n",
    "  Fpp = es\n",
    "  n = 5\n",
    "  root = sqrt(abs((n-1)*((n-1)*Fp*Fp-n*F*Fpp)))\n",
    "  denom = Fp>zero(E) ? Fp+root : Fp-root\n",
    "  return E-n*F/denom\n",
    "end;"
   ]
  },
  {
   "cell_type": "code",
   "execution_count": 53,
   "id": "46f9baff-6d9f-4d54-ba36-76429be8adf9",
   "metadata": {},
   "outputs": [
    {
     "data": {
      "text/plain": [
       "calc_ecc_anom (generic function with 2 methods)"
      ]
     },
     "execution_count": 53,
     "metadata": {},
     "output_type": "execute_result"
    }
   ],
   "source": [
    " function calc_ecc_anom(mean_anom::Real, ecc::Real, tol::Real = 1.0e-8)\n",
    "  \t@assert 0 <= ecc <= 1.0\n",
    "\t@assert 1e-16 <= tol < 1\n",
    "  \t#M = rem2pi(mean_anom,RoundNearest)\n",
    "    M = mod(mean_anom,2*convert(typeof(mean_anom),pi))\n",
    "    E = ecc_anom_init_guess_danby(M,ecc)\n",
    "\tlocal E_old\n",
    "    max_its_laguerre = 200\n",
    "    for i in 1:max_its_laguerre\n",
    "       E_old = E\n",
    "       E = update_ecc_anom_laguerre(E_old, M, ecc)\n",
    "       if abs(E-E_old) < tol break end\n",
    "    end\n",
    "    return E\n",
    "end"
   ]
  },
  {
   "cell_type": "code",
   "execution_count": 54,
   "id": "b814d532-3bdc-46db-9afe-1eb9c225f8a9",
   "metadata": {},
   "outputs": [
    {
     "data": {
      "text/plain": [
       "calc_true_anom (generic function with 1 method)"
      ]
     },
     "execution_count": 54,
     "metadata": {},
     "output_type": "execute_result"
    }
   ],
   "source": [
    "function calc_true_anom(ecc_anom::Real, e::Real)\n",
    "\ttrue_anom = 2*atan(sqrt((1+e)/(1-e))*tan(ecc_anom/2))\n",
    "end"
   ]
  },
  {
   "cell_type": "code",
   "execution_count": 55,
   "id": "1e2f0a6f-e88d-46c3-9f87-3b167e79b6f4",
   "metadata": {},
   "outputs": [
    {
     "data": {
      "text/plain": [
       "gpu_calc_ecc_anom! (generic function with 1 method)"
      ]
     },
     "execution_count": 55,
     "metadata": {},
     "output_type": "execute_result"
    }
   ],
   "source": [
    "function gpu_calc_ecc_anom!(ecc_anom, mean_anom, ecc, tol)\n",
    "\t#@assert 1e-16 <= tol < 1\n",
    "    #@assert size(ecc_anom) == size(mean_anom) == size(ecc) \n",
    "\tindex = (blockIdx().x - 1) * blockDim().x + threadIdx().x\n",
    "\tif index <= length(ecc_anom)\n",
    "\t\t@inbounds ecc_anom[index] = calc_ecc_anom(mean_anom[index],ecc[index])\n",
    "\tend\n",
    "\treturn \n",
    "end"
   ]
  },
  {
   "cell_type": "code",
   "execution_count": 56,
   "id": "089ffab8-ef20-43b0-bf72-3f715e500c78",
   "metadata": {},
   "outputs": [
    {
     "data": {
      "text/plain": [
       "bench_gpu_calc_ecc_anom! (generic function with 1 method)"
      ]
     },
     "execution_count": 56,
     "metadata": {},
     "output_type": "execute_result"
    }
   ],
   "source": [
    "function bench_gpu_calc_ecc_anom!(ecc_anom, mean_anom, ecc, tol)\n",
    "    @assert size(ecc_anom) == size(mean_anom) == size(ecc) \n",
    "\tkernel = @cuda launch=false gpu_calc_ecc_anom!(ecc_anom, mean_anom, ecc, tol)\n",
    "    config = launch_configuration(kernel.fun)\n",
    "    threads = min(length(ecc_anom), config.threads)\n",
    "    blocks = cld(length(ecc_anom), threads)\n",
    "\n",
    "    CUDA.@sync begin\n",
    "        kernel(ecc_anom, mean_anom, ecc, tol; threads=threads, blocks=blocks)\n",
    "    end\n",
    "end"
   ]
  },
  {
   "cell_type": "code",
   "execution_count": 57,
   "id": "11a3609f-8af7-4e49-bf54-aee8f0cdc4fa",
   "metadata": {},
   "outputs": [
    {
     "data": {
      "text/plain": [
       "1000"
      ]
     },
     "execution_count": 57,
     "metadata": {},
     "output_type": "execute_result"
    }
   ],
   "source": [
    "M=1000"
   ]
  },
  {
   "cell_type": "code",
   "execution_count": 58,
   "id": "c9b50955-2eb8-48c5-a93a-877bf9975276",
   "metadata": {},
   "outputs": [
    {
     "data": {
      "text/plain": [
       "(blocks = 112, threads = 576)"
      ]
     },
     "execution_count": 58,
     "metadata": {},
     "output_type": "execute_result"
    }
   ],
   "source": [
    "begin\n",
    "\tecc_anom_d = CUDA.zeros(Float64,M)\n",
    "\tecc_d = CUDA.rand(Float64,M)\n",
    "\tmean_anom_d = CUDA.rand(Float64,M)\n",
    "\tCUDA.@sync mean_anom_d .*= 2π\n",
    "\ttol = 1e-8\n",
    "\tkepler_kernel = @cuda launch=false gpu_calc_ecc_anom!(ecc_anom_d, mean_anom_d,ecc_d,tol)\n",
    "\tkepler_config = launch_configuration(kepler_kernel.fun)\n",
    "end"
   ]
  },
  {
   "cell_type": "code",
   "execution_count": 59,
   "id": "ac9a3bd5-6e6f-47df-a71f-4bb7aa515ca5",
   "metadata": {},
   "outputs": [
    {
     "data": {
      "text/plain": [
       "61.09407"
      ]
     },
     "execution_count": 59,
     "metadata": {},
     "output_type": "execute_result"
    }
   ],
   "source": [
    "1000*@elapsed bench_gpu_calc_ecc_anom!(ecc_anom_d,mean_anom_d,ecc_d,tol)"
   ]
  },
  {
   "cell_type": "code",
   "execution_count": 60,
   "id": "eee0866a-93df-417e-94c2-a28a211ef8a6",
   "metadata": {},
   "outputs": [
    {
     "data": {
      "text/plain": [
       "1000-element Vector{Float64}:\n",
       " 5.34313912333136\n",
       " 3.6755896634842444\n",
       " 2.154877383862004\n",
       " 1.2888247317686994\n",
       " 3.442135039653894\n",
       " 4.875556961720868\n",
       " 3.1113295603189877\n",
       " 2.98720570909686\n",
       " 1.8957695357397137\n",
       " 4.455569247540566\n",
       " 0.6476035138644487\n",
       " 5.471617118509137\n",
       " 2.6082256579598577\n",
       " ⋮\n",
       " 2.8829294233705043\n",
       " 5.283121956751919\n",
       " 5.880804327374942\n",
       " 2.440126331531619\n",
       " 4.767433445898621\n",
       " 5.350860151603896\n",
       " 2.6417675371436373\n",
       " 5.526644572489476\n",
       " 6.193152852348971\n",
       " 2.9505108998937435\n",
       " 0.36280589923210554\n",
       " 4.124672336556435"
      ]
     },
     "execution_count": 60,
     "metadata": {},
     "output_type": "execute_result"
    }
   ],
   "source": [
    "collect(ecc_anom_d)"
   ]
  },
  {
   "cell_type": "code",
   "execution_count": 61,
   "id": "dfdca643-2a3e-4e88-ae67-05d1923dd399",
   "metadata": {},
   "outputs": [
    {
     "data": {
      "text/plain": [
       "129.14849"
      ]
     },
     "execution_count": 61,
     "metadata": {},
     "output_type": "execute_result"
    }
   ],
   "source": [
    "begin\n",
    "\tecc_anom_h = collect(ecc_anom_d)\n",
    "\tmean_anom_h = collect(mean_anom_d)\n",
    "\tecc_h = collect(ecc_d)\n",
    "\t\n",
    "\t1000*@elapsed ecc_anom_h_comp = calc_ecc_anom.(mean_anom_h,ecc_h)\n",
    "end"
   ]
  },
  {
   "cell_type": "code",
   "execution_count": 62,
   "id": "7bdc5597-9307-49f4-b652-9d5c69f960a7",
   "metadata": {},
   "outputs": [
    {
     "data": {
      "text/plain": [
       "1.7763568394002505e-15"
      ]
     },
     "execution_count": 62,
     "metadata": {},
     "output_type": "execute_result"
    }
   ],
   "source": [
    "maximum(abs.(ecc_anom_h_comp .- ecc_anom_h))"
   ]
  },
  {
   "cell_type": "markdown",
   "id": "cbc02f88-35ce-44b8-bcb0-5682c2b10c99",
   "metadata": {},
   "source": [
    "## GPU Reductions"
   ]
  },
  {
   "cell_type": "markdown",
   "id": "b200ced5-db0a-40f4-a695-360a75941dac",
   "metadata": {},
   "source": [
    "![GPU Reduction](gpu_reduction.png)"
   ]
  },
  {
   "cell_type": "markdown",
   "id": "8e408ce1-6bcb-454c-a84a-b83784ac70ed",
   "metadata": {},
   "source": [
    "### Q&A\n",
    "\n",
    "**Q:** Is it always faster to use GPU than CPU? When is CPU a better option than GPU?\n",
    "**A:** No.  See Lab 8.\n",
    "\n",
    "**Q:** It seems like GPUs can be quite complicated to work with, and in some cases favor lower precision outputs for higher performance. In what circumstances would one choose to work on a GPU rather than CPUs?\n",
    "**A:** When there's a >10x performance benefit (for your required accuracy). \n",
    "\n",
    "**Q:** I am still unsure about the implementation of a GPU kernal. How common is this and how should we know whether to use it over a generic GPU array interface?\n",
    "**A:** Generaly, I'd try the array interface first (if you can).  Then decide if you want to try to get further performance boost by reducing memory transfers.\n",
    "\n",
    "**Q:** Can you explain what does it mean that \"all calls to the GPU are scheduled asynchronous\"?\n",
    "**A:** You have to exp\n",
    "\n",
    "**Q:** How can we determine whether a certain Julia type is compatible with a GPU?        \n",
    "**A:** Your standard integers, floats and complex types are implemented.  Arrays, and that's about it.\n",
    "\n",
    "**Q:** Why is there latency for RAM to communicate with the GPU's VRAM? Could a system be converted fully to VRAM or can VRAM not operate as RAM?    \n",
    "**A:** They're two separate memory systems.\n"
   ]
  }
 ],
 "metadata": {
  "kernelspec": {
   "display_name": "Julia 1.9.2",
   "language": "julia",
   "name": "julia-1.9"
  },
  "language_info": {
   "file_extension": ".jl",
   "mimetype": "application/julia",
   "name": "julia",
   "version": "1.9.2"
  }
 },
 "nbformat": 4,
 "nbformat_minor": 5
}
